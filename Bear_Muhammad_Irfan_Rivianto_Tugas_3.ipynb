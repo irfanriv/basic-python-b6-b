{
  "nbformat": 4,
  "nbformat_minor": 0,
  "metadata": {
    "colab": {
      "name": "Bear_Muhammad Irfan Rivianto_Tugas 3",
      "provenance": [],
      "authorship_tag": "ABX9TyMYlKtk2tKEFXO19cnfdr5b",
      "include_colab_link": true
    },
    "kernelspec": {
      "name": "python3",
      "display_name": "Python 3"
    },
    "language_info": {
      "name": "python"
    }
  },
  "cells": [
    {
      "cell_type": "markdown",
      "metadata": {
        "id": "view-in-github",
        "colab_type": "text"
      },
      "source": [
        "<a href=\"https://colab.research.google.com/github/irfanriv/basic-python-b6-b/blob/main/Bear_Muhammad_Irfan_Rivianto_Tugas_3.ipynb\" target=\"_parent\"><img src=\"https://colab.research.google.com/assets/colab-badge.svg\" alt=\"Open In Colab\"/></a>"
      ]
    },
    {
      "cell_type": "markdown",
      "source": [
        "2022 Tugas 3B Simulasi Analisis Algoritma: Running Time"
      ],
      "metadata": {
        "id": "T8D68s8RyAmr"
      }
    },
    {
      "cell_type": "markdown",
      "source": [
        "Muhammad Irfan Rivianto (1906302661)"
      ],
      "metadata": {
        "id": "mW1iOKfQyF-e"
      }
    },
    {
      "cell_type": "code",
      "execution_count": 9,
      "metadata": {
        "id": "04m8LLYkvHcq"
      },
      "outputs": [],
      "source": [
        "import pandas as pd\n",
        "import numpy as np\n",
        "import time\n",
        "import random\n",
        "import matplotlib.pyplot as plt"
      ]
    },
    {
      "cell_type": "code",
      "source": [
        "def insertionSort(arr):\n",
        "    for i in range(1, len(arr)):\n",
        "        key = arr[i]\n",
        "        j = i-1\n",
        "        while j >=0 and key < arr[j] :\n",
        "                arr[j+1] = arr[j]\n",
        "                j -= 1\n",
        "        arr[j+1] = key"
      ],
      "metadata": {
        "id": "-IRGELG6vjb1"
      },
      "execution_count": 11,
      "outputs": []
    },
    {
      "cell_type": "code",
      "source": [
        "def selectionSort(A):\n",
        "    for i in range(len(A)):\n",
        "        min_idx = i\n",
        "        for j in range(i+1, len(A)):\n",
        "            if A[min_idx] > A[j]:\n",
        "                min_idx = j\n",
        "        A[i], A[min_idx] = A[min_idx], A[i]"
      ],
      "metadata": {
        "id": "7oDuVu25vrCF"
      },
      "execution_count": 12,
      "outputs": []
    },
    {
      "cell_type": "code",
      "source": [
        "def buatArray(n):\n",
        "    arr = []\n",
        "    for i in range(n):\n",
        "        arr.append(i)\n",
        "    return arr"
      ],
      "metadata": {
        "id": "GyEn4U94vsZ7"
      },
      "execution_count": 13,
      "outputs": []
    },
    {
      "cell_type": "code",
      "source": [
        "# Insertion Sort Acak\n",
        "\n",
        "n_acak = [100, 1000, 2000, 3000, 4000, 5000, 6000, 7000, 8000, 9000, 10000]\n",
        "time_acak_insert = []\n",
        "for i in n_acak:\n",
        "    Arr = buatArray(i)\n",
        "    random.shuffle(Arr)\n",
        "    start_time = time.time()\n",
        "    insertionSort(Arr)\n",
        "    print(\"--- %s seconds ---\" % (time.time() - start_time))\n",
        "    print (\"Sorted with insertion, n = \"+str(i))\n",
        "    time_acak_insert.append(time.time() - start_time)"
      ],
      "metadata": {
        "colab": {
          "base_uri": "https://localhost:8080/"
        },
        "id": "ob-icf-XvvZY",
        "outputId": "8150a58c-19ae-44a1-f6f5-a7bca23b362b"
      },
      "execution_count": 14,
      "outputs": [
        {
          "output_type": "stream",
          "name": "stdout",
          "text": [
            "--- 0.00074005126953125 seconds ---\n",
            "Sorted with insertion, n = 100\n",
            "--- 0.05048799514770508 seconds ---\n",
            "Sorted with insertion, n = 1000\n",
            "--- 0.21220970153808594 seconds ---\n",
            "Sorted with insertion, n = 2000\n",
            "--- 0.5255899429321289 seconds ---\n",
            "Sorted with insertion, n = 3000\n",
            "--- 0.8817546367645264 seconds ---\n",
            "Sorted with insertion, n = 4000\n",
            "--- 1.3001768589019775 seconds ---\n",
            "Sorted with insertion, n = 5000\n",
            "--- 1.9588525295257568 seconds ---\n",
            "Sorted with insertion, n = 6000\n",
            "--- 2.5874898433685303 seconds ---\n",
            "Sorted with insertion, n = 7000\n",
            "--- 3.33505916595459 seconds ---\n",
            "Sorted with insertion, n = 8000\n",
            "--- 4.387728214263916 seconds ---\n",
            "Sorted with insertion, n = 9000\n",
            "--- 5.268078327178955 seconds ---\n",
            "Sorted with insertion, n = 10000\n"
          ]
        }
      ]
    },
    {
      "cell_type": "code",
      "source": [
        "# Selection Sort Acak\n",
        "\n",
        "n_acak = [100, 1000, 2000, 3000, 4000, 5000, 6000, 7000, 8000, 9000, 10000]\n",
        "time_acak_select = []\n",
        "for i in n_acak:\n",
        "    Arr = buatArray(i)\n",
        "    random.shuffle(Arr)\n",
        "    start_time = time.time()\n",
        "    selectionSort(Arr)\n",
        "    print(\"--- %s seconds ---\" % (time.time() - start_time))\n",
        "    print (\"Sorted with selection, n = \"+str(i))\n",
        "    time_acak_select.append(time.time() - start_time)"
      ],
      "metadata": {
        "colab": {
          "base_uri": "https://localhost:8080/"
        },
        "id": "jOi14fb7wJ9q",
        "outputId": "1bf1f988-8a91-4198-b55c-9c7e86ffe72b"
      },
      "execution_count": 15,
      "outputs": [
        {
          "output_type": "stream",
          "name": "stdout",
          "text": [
            "--- 0.0008187294006347656 seconds ---\n",
            "Sorted with selection, n = 100\n",
            "--- 0.05440115928649902 seconds ---\n",
            "Sorted with selection, n = 1000\n",
            "--- 0.20412755012512207 seconds ---\n",
            "Sorted with selection, n = 2000\n",
            "--- 0.4598381519317627 seconds ---\n",
            "Sorted with selection, n = 3000\n",
            "--- 0.810889482498169 seconds ---\n",
            "Sorted with selection, n = 4000\n",
            "--- 1.2406926155090332 seconds ---\n",
            "Sorted with selection, n = 5000\n",
            "--- 1.8116061687469482 seconds ---\n",
            "Sorted with selection, n = 6000\n",
            "--- 2.5078630447387695 seconds ---\n",
            "Sorted with selection, n = 7000\n",
            "--- 3.2818374633789062 seconds ---\n",
            "Sorted with selection, n = 8000\n",
            "--- 5.230011463165283 seconds ---\n",
            "Sorted with selection, n = 9000\n",
            "--- 5.043796062469482 seconds ---\n",
            "Sorted with selection, n = 10000\n"
          ]
        }
      ]
    },
    {
      "cell_type": "code",
      "source": [
        "# Plot Array Acak\n",
        "\n",
        "plt.plot(n_acak, time_acak_insert, label = 'Insertion Sort Acak')\n",
        "plt.plot(n_acak, time_acak_select, label = 'Selection Sort Acak')\n",
        "plt.legend()\n",
        "plt.show()"
      ],
      "metadata": {
        "colab": {
          "base_uri": "https://localhost:8080/",
          "height": 265
        },
        "id": "CLzzTlOGwShe",
        "outputId": "1f688eaf-412d-4814-eab8-767d874e158d"
      },
      "execution_count": 16,
      "outputs": [
        {
          "output_type": "display_data",
          "data": {
            "image/png": "[encoded data removed]",
            "text/plain": [
              "<Figure size 432x288 with 1 Axes>"
            ]
          },
          "metadata": {
            "needs_background": "light"
          }
        }
      ]
    },
    {
      "cell_type": "code",
      "source": [
        "# Insertion Sort Ascending\n",
        "\n",
        "n_urut = [1000, 5000, 10000]\n",
        "time_asc_insert = []\n",
        "time_asc_select = []\n",
        "time_desc_insert = []\n",
        "time_desc_select = []\n",
        "for i in n_urut:\n",
        "    arr = []\n",
        "    for j in range(i):\n",
        "        arr.append(j)\n",
        "    start_time = time.time()\n",
        "    insertionSort(arr)\n",
        "    print(\"--- %s seconds ---\" % (time.time() - start_time))\n",
        "    print (\"Insertion Ascending, n = \"+str(i))\n",
        "    time_asc_insert.append(time.time() - start_time)\n",
        "    \n",
        "    arr = []\n",
        "    for j in range(i):\n",
        "        arr.append(j)\n",
        "    start_time = time.time()\n",
        "    selectionSort(arr)\n",
        "    print(\"--- %s seconds ---\" % (time.time() - start_time))\n",
        "    print (\"Selection Ascending, n = \"+str(i))\n",
        "    time_asc_select.append(time.time() - start_time)\n",
        "    \n",
        "    arr = []\n",
        "    for j in range(i,0,-1):\n",
        "        arr.append(j)\n",
        "    start_time = time.time()\n",
        "    insertionSort(arr)\n",
        "    print(\"--- %s seconds ---\" % (time.time() - start_time))\n",
        "    print (\"Insertion Descending, n = \"+str(i))\n",
        "    time_desc_insert.append(time.time() - start_time)\n",
        "    \n",
        "    arr = []\n",
        "    for j in range(i,0,-1):\n",
        "        arr.append(j)\n",
        "    start_time = time.time()\n",
        "    selectionSort(arr)\n",
        "    print(\"--- %s seconds ---\" % (time.time() - start_time))\n",
        "    print (\"Selection Descending, n = \"+str(i))\n",
        "    time_desc_select.append(time.time() - start_time)"
      ],
      "metadata": {
        "colab": {
          "base_uri": "https://localhost:8080/"
        },
        "id": "ILflBrA2wZg8",
        "outputId": "1d7d6733-9fe5-4bb1-c8cb-9bbb92a4144e"
      },
      "execution_count": 17,
      "outputs": [
        {
          "output_type": "stream",
          "name": "stdout",
          "text": [
            "--- 0.00025391578674316406 seconds ---\n",
            "Insertion Ascending, n = 1000\n",
            "--- 0.04896831512451172 seconds ---\n",
            "Selection Ascending, n = 1000\n",
            "--- 0.10407471656799316 seconds ---\n",
            "Insertion Descending, n = 1000\n",
            "--- 0.05267524719238281 seconds ---\n",
            "Selection Descending, n = 1000\n",
            "--- 0.002259492874145508 seconds ---\n",
            "Insertion Ascending, n = 5000\n",
            "--- 1.2960965633392334 seconds ---\n",
            "Selection Ascending, n = 5000\n",
            "--- 2.634758234024048 seconds ---\n",
            "Insertion Descending, n = 5000\n",
            "--- 1.317051649093628 seconds ---\n",
            "Selection Descending, n = 5000\n",
            "--- 0.002468585968017578 seconds ---\n",
            "Insertion Ascending, n = 10000\n",
            "--- 4.995079517364502 seconds ---\n",
            "Selection Ascending, n = 10000\n",
            "--- 10.429674625396729 seconds ---\n",
            "Insertion Descending, n = 10000\n",
            "--- 5.170807600021362 seconds ---\n",
            "Selection Descending, n = 10000\n"
          ]
        }
      ]
    },
    {
      "cell_type": "code",
      "source": [
        "# Plot Array Terurut\n",
        "\n",
        "plt.plot(n_urut, time_asc_insert, label = 'Insertion Sort Ascending')\n",
        "plt.plot(n_urut, time_asc_select, label = 'Selection Sort Ascending')\n",
        "plt.plot(n_urut, time_desc_insert, label = 'Insertion Sort Descending')\n",
        "plt.plot(n_urut, time_desc_select, label = 'Insertion Sort Descending')\n",
        "plt.legend()\n",
        "plt.show()"
      ],
      "metadata": {
        "colab": {
          "base_uri": "https://localhost:8080/",
          "height": 265
        },
        "id": "yVC57MDzwi1X",
        "outputId": "5935b779-4177-4daa-e249-85aafae05472"
      },
      "execution_count": 18,
      "outputs": [
        {
          "output_type": "display_data",
          "data": {
            "image/png": "[encoded data removed]",
            "text/plain": [
              "<Figure size 432x288 with 1 Axes>"
            ]
          },
          "metadata": {
            "needs_background": "light"
          }
        }
      ]
    },
    {
      "cell_type": "code",
      "source": [
        "def fibonacciRecur(n):\n",
        "    if n < 0:\n",
        "        print(\"Incorrect input\")\n",
        "    elif n == 0:\n",
        "        return 0\n",
        "    elif n == 1 or n == 2:\n",
        "        return 1\n",
        "    else:\n",
        "        return fibonacciRecur(n-1) + fibonacciRecur(n-2)"
      ],
      "metadata": {
        "id": "vSfVTQaAyg_q"
      },
      "execution_count": 19,
      "outputs": []
    },
    {
      "cell_type": "code",
      "source": [
        "def fibonacciIter(n):\n",
        "    a, b = 0, 1\n",
        "    for i in range(n):\n",
        "        a, b = b, a + b\n",
        "    return a"
      ],
      "metadata": {
        "id": "9OmJb0LTylJg"
      },
      "execution_count": 20,
      "outputs": []
    },
    {
      "cell_type": "code",
      "source": [
        "n = [100, 1000, 2000, 3000, 4000, 5000, 6000, 7000, 8000, 9000, 10000]\n"
      ],
      "metadata": {
        "id": "rVW2MAHNynKr"
      },
      "execution_count": 21,
      "outputs": []
    }
  ]
}